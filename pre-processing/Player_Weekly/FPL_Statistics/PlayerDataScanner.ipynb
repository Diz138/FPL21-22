{
 "cells": [
  {
   "cell_type": "code",
   "execution_count": 1,
   "id": "b807276e",
   "metadata": {},
   "outputs": [],
   "source": [
    "import os\n",
    "import pandas as pd\n",
    "import re"
   ]
  },
  {
   "cell_type": "markdown",
   "id": "fecacde2",
   "metadata": {},
   "source": [
    "# Creating CSV of FPL player data for each Gameweek"
   ]
  },
  {
   "cell_type": "code",
   "execution_count": 2,
   "id": "ab1e21cf",
   "metadata": {},
   "outputs": [],
   "source": [
    "#directory in computer NEED TO CHANGE\n",
    "rootdir = r'C:\\Users\\mattd\\Documents\\GitHub\\FPL21-22\\data\\Player_Weekly\\players'\n",
    "\n",
    "#creating a list of all the players csvs that contain data for each gameweek\n",
    "csv_list_gw = []\n",
    "for subdir, dirs, files in os.walk(rootdir):\n",
    "    for file in files:\n",
    "        #removing files that have the history of the player in FPL\n",
    "        if file.find('history') == -1:\n",
    "            csv_list_gw.append(os.path.join(subdir, file))\n",
    "#csv_list_gw"
   ]
  },
  {
   "cell_type": "code",
   "execution_count": 3,
   "id": "0a045f1c",
   "metadata": {},
   "outputs": [],
   "source": [
    "#creating empty dataframe that will contain every player's information\n",
    "df_all = pd.DataFrame()\n",
    "#looping through every csv to extract each players data and add it to the big df\n",
    "for file in csv_list_gw:\n",
    "    df = pd.read_csv(file)\n",
    "    #getting the index number of the end of the player name\n",
    "    end = file.find('\\\\gw.csv')\n",
    "    #seelcting only the player name and number associated with it\n",
    "    fullname = file[58:end]\n",
    "    #removing punctiation and numbers from the full name\n",
    "    punctuations = '''!()-[]{};:'\"\\,<>./?@#$%^&*_~123456789'''\n",
    "    no_punct = \"\"\n",
    "    for char in fullname:\n",
    "        if char not in punctuations:\n",
    "            no_punct = no_punct + char\n",
    "        elif char == '_':\n",
    "            no_punct = no_punct + ' '\n",
    "    #splitting the full name into first and last name\n",
    "    split = no_punct.split(' ')\n",
    "    #creating a new column for the first and last name\n",
    "    df = df.assign(first_name=split[0])\n",
    "    df = df.assign(last_name=split[1])\n",
    "    #adding the current csv's data to the big dataframe\n",
    "    df_all = df_all.append(df)\n",
    "\n",
    "\n",
    "#Exporting a csv file of the df_all dataframe\n",
    "df_all.to_csv('UntilGW17.csv', index =False)"
   ]
  },
  {
   "cell_type": "code",
   "execution_count": null,
   "id": "f0c4fdf0",
   "metadata": {},
   "outputs": [],
   "source": []
  }
 ],
 "metadata": {
  "kernelspec": {
   "display_name": "Python 3",
   "language": "python",
   "name": "python3"
  },
  "language_info": {
   "codemirror_mode": {
    "name": "ipython",
    "version": 3
   },
   "file_extension": ".py",
   "mimetype": "text/x-python",
   "name": "python",
   "nbconvert_exporter": "python",
   "pygments_lexer": "ipython3",
   "version": "3.8.8"
  }
 },
 "nbformat": 4,
 "nbformat_minor": 5
}
